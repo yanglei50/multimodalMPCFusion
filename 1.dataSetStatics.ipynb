{
 "cells": [
  {
   "cell_type": "code",
   "execution_count": null,
   "metadata": {
    "collapsed": true
   },
   "outputs": [],
   "source": []
  },
  {
   "cell_type": "code",
   "execution_count": null,
   "outputs": [],
   "source": [
    "# -*- coding: utf-8 -*-\n",
    "import os\n",
    "\n",
    "path = \"D:/DataContest/data/0805 (有图数据)/\"\n",
    "\n",
    "# # file_image = 'F:\\\\car\\\\object\\\\image4\\\\0805 (1)\\\\0805\\\\image'\n",
    "# datanames = os.listdir(path)\n",
    "# list = []\n",
    "# for i in datanames:\n",
    "#     list.append(i)\n",
    "# already_draw_one = 0\n",
    "# row_total=0\n",
    "# for b in list:\n",
    "#     (filename, extension) = os.path.splitext(b)\n",
    "#     file = path + b\n",
    "#     if not os.access(file, os.X_OK):\n",
    "#         continue;\n",
    "#     row_total = row_total+len(open(file).readlines())\n",
    "#\n",
    "# import os\n",
    "\n",
    "row_total=0\n",
    "def fn(path, tail2):\n",
    "    # key = dict()\n",
    "    for i in os.listdir(path):\n",
    "        sub_path = os.path.join(path, i)\n",
    "        if os.path.isdir(sub_path):  # 递归遍历子目录下文件及目录\n",
    "            # key.update({i: dict()})  # 父级标签\n",
    "            # key[i].update(fn(sub_path, tail2))\n",
    "            fn(sub_path, tail2)\n",
    "        elif os.path.isfile(sub_path):  # 读取目录下文件\n",
    "            tail1 = i.split('.')[-1]  # 取出后缀\n",
    "            # key.update({i: list()})  # 子级标签\n",
    "            # 读取后缀为txt的目标文件内容\n",
    "            if tail1 == tail2:\n",
    "                with open(sub_path, \"r\", encoding=\"utf-8\") as f:\n",
    "                    text = f.readlines()\n",
    "                    global row_total\n",
    "                    row_total = row_total + len(open(sub_path).readlines())\n",
    "                # for j in text:\n",
    "                #     key[i].append(j.strip())\n",
    "    return #key,row_total\n",
    "\n",
    "\n",
    "if __name__ == '__main__':\n",
    "    path = \"F:/DataContest/data\"\n",
    "    fn(path, \"csv\")\n",
    "    # print(key)\n",
    "    print(row_total)"
   ],
   "metadata": {
    "collapsed": false
   }
  }
 ],
 "metadata": {
  "kernelspec": {
   "display_name": "Python 3",
   "language": "python",
   "name": "python3"
  },
  "language_info": {
   "codemirror_mode": {
    "name": "ipython",
    "version": 2
   },
   "file_extension": ".py",
   "mimetype": "text/x-python",
   "name": "python",
   "nbconvert_exporter": "python",
   "pygments_lexer": "ipython2",
   "version": "2.7.6"
  }
 },
 "nbformat": 4,
 "nbformat_minor": 0
}
